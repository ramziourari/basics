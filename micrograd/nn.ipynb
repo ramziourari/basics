{
 "cells": [
  {
   "cell_type": "code",
   "execution_count": 9,
   "id": "98f1b16b",
   "metadata": {},
   "outputs": [],
   "source": [
    "from engine import Value\n",
    "import random"
   ]
  },
  {
   "cell_type": "code",
   "execution_count": 158,
   "id": "e59521be",
   "metadata": {},
   "outputs": [],
   "source": [
    "class Module:\n",
    "\n",
    "    def zero_grad(self,):\n",
    "        for p in self.parameters():\n",
    "            p.grad = 0\n",
    "    \n",
    "    def parameters(self,):\n",
    "        return []\n",
    "    \n",
    "class Neuron(Module):\n",
    "    \n",
    "    def __init__(self, nin: int, nonlinear=True):\n",
    "        self.w = [Value(random.uniform(-1, 1)) for _ in range(nin)]\n",
    "        self.b = Value(0)\n",
    "        self.nonlinear = nonlinear\n",
    "    \n",
    "    def __call__(self, x):\n",
    "        act = sum((w*x for w, x in zip(self.w, x)), self.b)\n",
    "        return act.relu() if self.nonlinear else act\n",
    "    \n",
    "    def parameters(self,):\n",
    "        return self.w + [self.b]\n",
    "    \n",
    "    def __repr__(self,):\n",
    "        return f\"{'ReLU' if self.nonlinear else 'Linear'} Neuron({len(self.w)})\"\n",
    "\n",
    "class Layer(Neuron):\n",
    "    \n",
    "    def __init__(self, nin, nout, **kwargs):\n",
    "        self.neurons = [Neuron(nin, **kwargs) for _ in range(nout)]\n",
    "    \n",
    "    def __call__(self, x):\n",
    "        out = [n(x) for n in self.neurons]\n",
    "        return out[0] if len(out) == 1 else out\n",
    "    \n",
    "    def parameters(self,):\n",
    "        return [n.parameters() for n in self.neurons]\n",
    "    \n",
    "    def __repr__(self):\n",
    "        return f\"Layer of [{', '.join(str(n) for n in self.neurons)}]\"\n",
    "\n",
    "class MLP(Layer):\n",
    "    \n",
    "    def __init__(self, nin, layers):\n",
    "        sizes = [nin] + layers\n",
    "        self.layers = [Layer(sizes[i], sizes[i+1], nonlinear=i!=len(sizes)-1) for i in range(len(sizes)-1)]\n",
    "        \n",
    "    def __call__(self, x):\n",
    "        for layer in self.layers:\n",
    "            x = layer(x)\n",
    "        return x\n",
    "    def parameters(self,):\n",
    "        return [p.parameters() for p in self.layers]"
   ]
  },
  {
   "cell_type": "code",
   "execution_count": 209,
   "id": "1abb47fb",
   "metadata": {},
   "outputs": [],
   "source": [
    "mlp = MLP(3, [2, 3, 1])\n",
    "loss = mlp([-1,-2,1])"
   ]
  }
 ],
 "metadata": {
  "kernelspec": {
   "display_name": "Python 3 (ipykernel)",
   "language": "python",
   "name": "python3"
  },
  "language_info": {
   "codemirror_mode": {
    "name": "ipython",
    "version": 3
   },
   "file_extension": ".py",
   "mimetype": "text/x-python",
   "name": "python",
   "nbconvert_exporter": "python",
   "pygments_lexer": "ipython3",
   "version": "3.9.7"
  }
 },
 "nbformat": 4,
 "nbformat_minor": 5
}
