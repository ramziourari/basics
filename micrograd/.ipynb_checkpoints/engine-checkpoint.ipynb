{
 "cells": [
  {
   "cell_type": "code",
   "execution_count": 184,
   "id": "6e8845de",
   "metadata": {},
   "outputs": [],
   "source": [
    "\"\"\"atomic unit of micrograd. Basis for building neurons, layers and MLPs.\"\"\"\n",
    "\n",
    "class Value:\n",
    "    \n",
    "    def __init__(self, data: float, _children:()=None, _op:str=None):\n",
    "        self.data = float(data)\n",
    "        self._prev = set(_children) if _children else None\n",
    "        self.grad = None\n",
    "        self._op = _op\n",
    "    \n",
    "    def __add__(self, right):                \n",
    "        right = right if isinstance(right, Value) else Value(right)        \n",
    "        out = Value(self.data + right.data, _children=[self, right], _op='+')\n",
    "        return out\n",
    "            \n",
    "    def __sub__(self, right):\n",
    "        right = right if isinstance(right, Value) else Value(right)        \n",
    "        out = Value(self.data - right.data, _children=[self, right], _op='-')\n",
    "        return out            \n",
    "    \n",
    "    def __mul__(self, right):\n",
    "        right = right if isinstance(right, Value) else Value(right)\n",
    "        out = Value(self.data * right.data, [self, right], '*')\n",
    "        return out\n",
    "    \n",
    "    def __pow__(self, power):\n",
    "        data = self.data**power\n",
    "        return Value(data, None, '**')\n",
    "    \n",
    "    def __truediv__(self, right):        \n",
    "        right = right if isinstance(right, Value) else Value(right)\n",
    "        out = Value(self.data * right.data**-1, [self, right], '/')\n",
    "        return out\n",
    "    \n",
    "    def __radd__(self, right):\n",
    "        return self + right\n",
    "\n",
    "    def __rsub__(self, right):\n",
    "        return -1*self + right\n",
    "    \n",
    "    def __rmul__(self, right):\n",
    "        return self * right\n",
    "    \n",
    "    def __rtruediv__(self, right):\n",
    "        return self**-1 * right\n",
    "        \n",
    "    def __repr__(self):\n",
    "        msg = f'Value(data = {str(self.data)}, grad = {str(self.grad)})'\n",
    "        return msg"
   ]
  },
  {
   "cell_type": "code",
   "execution_count": 185,
   "id": "1443d7aa",
   "metadata": {},
   "outputs": [],
   "source": [
    "a = Value(-4)\n",
    "b = -2"
   ]
  },
  {
   "cell_type": "code",
   "execution_count": 186,
   "id": "2cc595b4",
   "metadata": {
    "scrolled": true
   },
   "outputs": [],
   "source": [
    "c = b / a"
   ]
  },
  {
   "cell_type": "code",
   "execution_count": 188,
   "id": "ea0a2333",
   "metadata": {},
   "outputs": [
    {
     "data": {
      "text/plain": [
       "{Value(data = -0.25, grad = None), Value(data = -2.0, grad = None)}"
      ]
     },
     "execution_count": 188,
     "metadata": {},
     "output_type": "execute_result"
    }
   ],
   "source": [
    "c._prev"
   ]
  }
 ],
 "metadata": {
  "kernelspec": {
   "display_name": "Python 3 (ipykernel)",
   "language": "python",
   "name": "python3"
  },
  "language_info": {
   "codemirror_mode": {
    "name": "ipython",
    "version": 3
   },
   "file_extension": ".py",
   "mimetype": "text/x-python",
   "name": "python",
   "nbconvert_exporter": "python",
   "pygments_lexer": "ipython3",
   "version": "3.9.7"
  }
 },
 "nbformat": 4,
 "nbformat_minor": 5
}
