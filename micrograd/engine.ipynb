{
 "cells": [
  {
   "cell_type": "code",
   "execution_count": 191,
   "id": "c7c241ec",
   "metadata": {},
   "outputs": [],
   "source": [
    "import math"
   ]
  },
  {
   "cell_type": "code",
   "execution_count": 265,
   "id": "8c627412",
   "metadata": {},
   "outputs": [],
   "source": [
    "\"\"\"atomic unit of micrograd. Basis for building neurons, layers and MLPs.\"\"\"\n",
    "\n",
    "class Value:\n",
    "    \n",
    "    def __init__(self, data: float, _children:()=None, _op:str=None):\n",
    "        self.data = float(data)\n",
    "        self._prev = set(_children) if _children else None\n",
    "        self.grad = None\n",
    "        self._op = _op\n",
    "        self._backward = lambda: None\n",
    "    \n",
    "    def __add__(self, other):                \n",
    "        other = other if isinstance(other, Value) else Value(other)        \n",
    "        out = Value(self.data + other.data, _children=[self, other], _op='+')\n",
    "        \n",
    "        def backward():\n",
    "            self.grad += out.grad\n",
    "            other.grad += out.grad\n",
    "            \n",
    "        self._backward = backward\n",
    "        \n",
    "        return out\n",
    "    \n",
    "    def __sub__(self, other):\n",
    "        other = other if isinstance(other, Value) else Value(other)        \n",
    "        out = Value(self.data - other.data, _children=[self, other], _op='-')\n",
    "        \n",
    "        def backward():\n",
    "            self.grad += out.grad\n",
    "            other.grad += -out.grad\n",
    "        \n",
    "        self._backward = backward\n",
    "        \n",
    "        return out            \n",
    "    \n",
    "    def __mul__(self, other):\n",
    "        other = other if isinstance(other, Value) else Value(other)\n",
    "        out = Value(self.data * other.data, [self, other], '*')\n",
    "        \n",
    "        def backward():\n",
    "            self.grad += out.grad * other.data\n",
    "            other.grad += out.grad * self.data\n",
    "        \n",
    "        self._backward = backward\n",
    "        \n",
    "        return out\n",
    "    \n",
    "    def __pow__(self, power):\n",
    "        data = self.data**power\n",
    "        \n",
    "        def backward():\n",
    "            self.grad += out.grad * power * self.data**(power-1)\n",
    "        \n",
    "        self._backward = backward\n",
    "        \n",
    "        return Value(data, None, f'**{power}')\n",
    "    \n",
    "    def __truediv__(self, other):        \n",
    "        other = other if isinstance(other, Value) else Value(other)\n",
    "        out = Value(self.data * other.data**-1, [self, other], '/')\n",
    "        \n",
    "        def backward():\n",
    "            self.grad += out.grad * (other.data**-1)\n",
    "            other.grad += out.grad * (-self.data * other.data**-2)\n",
    "        \n",
    "        self._backward = backward\n",
    "        \n",
    "        return out\n",
    "    \n",
    "    def tanh(self,):\n",
    "        out = Value(math.tanh(self.data), [self], 'tanh')\n",
    "        \n",
    "        def backward():\n",
    "            self.grad = out.grad * (1 - out**2)\n",
    "            \n",
    "        self._backward = backward\n",
    "        \n",
    "        return out\n",
    "    \n",
    "    def relu(self):\n",
    "        out = Value(0 if self.data < 0 else self.data, [self], 'relu')\n",
    "        \n",
    "        def backward():\n",
    "            self.grad += out.grad * (0 if self.data < 0 else 1.0)\n",
    "        \n",
    "        self._backward = backward\n",
    "        \n",
    "        return out\n",
    "    \n",
    "    def __radd__(self, other):\n",
    "        return self + other\n",
    "\n",
    "    def __rsub__(self, other):\n",
    "        return -1*self + other\n",
    "    \n",
    "    def __rmul__(self, other):\n",
    "        return self * other\n",
    "    \n",
    "    def __rtruediv__(self, other):\n",
    "        return self**-1 * other\n",
    "        \n",
    "    def __repr__(self):\n",
    "        msg = f'Value(data = {str(self.data)}, grad = {str(self.grad)})'\n",
    "        return msg"
   ]
  },
  {
   "cell_type": "code",
   "execution_count": null,
   "id": "5ebd532f",
   "metadata": {},
   "outputs": [],
   "source": []
  },
  {
   "cell_type": "code",
   "execution_count": 259,
   "id": "a5542134",
   "metadata": {},
   "outputs": [],
   "source": [
    "a = Value(3)\n",
    "b = -2"
   ]
  },
  {
   "cell_type": "code",
   "execution_count": 260,
   "id": "f6fc799f",
   "metadata": {},
   "outputs": [
    {
     "data": {
      "text/plain": [
       "Value(data = 0.1111111111111111, grad = None)"
      ]
     },
     "execution_count": 260,
     "metadata": {},
     "output_type": "execute_result"
    }
   ],
   "source": [
    "a**b"
   ]
  },
  {
   "cell_type": "code",
   "execution_count": 227,
   "id": "12a60be8",
   "metadata": {},
   "outputs": [
    {
     "data": {
      "text/plain": [
       "'**9'"
      ]
     },
     "execution_count": 227,
     "metadata": {},
     "output_type": "execute_result"
    }
   ],
   "source": [
    "c._op"
   ]
  }
 ],
 "metadata": {
  "kernelspec": {
   "display_name": "Python 3 (ipykernel)",
   "language": "python",
   "name": "python3"
  },
  "language_info": {
   "codemirror_mode": {
    "name": "ipython",
    "version": 3
   },
   "file_extension": ".py",
   "mimetype": "text/x-python",
   "name": "python",
   "nbconvert_exporter": "python",
   "pygments_lexer": "ipython3",
   "version": "3.9.7"
  }
 },
 "nbformat": 4,
 "nbformat_minor": 5
}
