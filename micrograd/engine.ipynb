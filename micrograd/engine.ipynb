{
 "cells": [
  {
   "cell_type": "code",
   "execution_count": 191,
   "id": "f7801e25",
   "metadata": {},
   "outputs": [],
   "source": [
    "import math"
   ]
  },
  {
   "cell_type": "code",
   "execution_count": 222,
   "id": "68e85de4",
   "metadata": {},
   "outputs": [],
   "source": [
    "\"\"\"atomic unit of micrograd. Basis for building neurons, layers and MLPs.\"\"\"\n",
    "\n",
    "class Value:\n",
    "    \n",
    "    def __init__(self, data: float, _children:()=None, _op:str=None):\n",
    "        self.data = float(data)\n",
    "        self._prev = set(_children) if _children else None\n",
    "        self.grad = None\n",
    "        self._op = _op\n",
    "    \n",
    "    def __add__(self, right):                \n",
    "        right = right if isinstance(right, Value) else Value(right)        \n",
    "        out = Value(self.data + right.data, _children=[self, right], _op='+')            \n",
    "        return out\n",
    "    \n",
    "    def __sub__(self, right):\n",
    "        right = right if isinstance(right, Value) else Value(right)        \n",
    "        out = Value(self.data - right.data, _children=[self, right], _op='-')\n",
    "        return out            \n",
    "    \n",
    "    def __mul__(self, right):\n",
    "        right = right if isinstance(right, Value) else Value(right)\n",
    "        out = Value(self.data * right.data, [self, right], '*')\n",
    "        return out\n",
    "    \n",
    "    def __pow__(self, power):\n",
    "        data = self.data**power\n",
    "        return Value(data, None, f'**{power}')\n",
    "    \n",
    "    def __truediv__(self, right):        \n",
    "        right = right if isinstance(right, Value) else Value(right)\n",
    "        out = Value(self.data * right.data**-1, [self, right], '/')\n",
    "        return out\n",
    "    \n",
    "    def tanh(self,):\n",
    "        out = Value(math.tanh(self.data), [self], 'tanh')\n",
    "        return out\n",
    "    \n",
    "    def relu(self):\n",
    "        out = Value(0 if self.data < 0 else self.data, [self], 'relu')\n",
    "        return out\n",
    "    \n",
    "    def __radd__(self, right):\n",
    "        return self + right\n",
    "\n",
    "    def __rsub__(self, right):\n",
    "        return -1*self + right\n",
    "    \n",
    "    def __rmul__(self, right):\n",
    "        return self * right\n",
    "    \n",
    "    def __rtruediv__(self, right):\n",
    "        return self**-1 * right\n",
    "        \n",
    "    def __repr__(self):\n",
    "        msg = f'Value(data = {str(self.data)}, grad = {str(self.grad)})'\n",
    "        return msg"
   ]
  },
  {
   "cell_type": "code",
   "execution_count": 224,
   "id": "0e1e2c23",
   "metadata": {},
   "outputs": [],
   "source": [
    "a = Value(3)\n",
    "b = 9"
   ]
  },
  {
   "cell_type": "code",
   "execution_count": 225,
   "id": "a06d1d56",
   "metadata": {},
   "outputs": [],
   "source": [
    "c = a**b"
   ]
  },
  {
   "cell_type": "code",
   "execution_count": 227,
   "id": "fd958ba9",
   "metadata": {},
   "outputs": [
    {
     "data": {
      "text/plain": [
       "'**9'"
      ]
     },
     "execution_count": 227,
     "metadata": {},
     "output_type": "execute_result"
    }
   ],
   "source": [
    "c._op"
   ]
  }
 ],
 "metadata": {
  "kernelspec": {
   "display_name": "Python 3 (ipykernel)",
   "language": "python",
   "name": "python3"
  },
  "language_info": {
   "codemirror_mode": {
    "name": "ipython",
    "version": 3
   },
   "file_extension": ".py",
   "mimetype": "text/x-python",
   "name": "python",
   "nbconvert_exporter": "python",
   "pygments_lexer": "ipython3",
   "version": "3.9.7"
  }
 },
 "nbformat": 4,
 "nbformat_minor": 5
}
