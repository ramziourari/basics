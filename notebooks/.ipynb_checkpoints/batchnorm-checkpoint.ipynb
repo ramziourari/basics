{
 "cells": [
  {
   "cell_type": "code",
   "execution_count": 12,
   "id": "f5ba5b6b",
   "metadata": {},
   "outputs": [],
   "source": [
    "import matplotlib.pyplot as plt\n",
    "import torch\n",
    "import torch.nn.functional as F"
   ]
  },
  {
   "cell_type": "code",
   "execution_count": 1,
   "id": "dcce3e78",
   "metadata": {},
   "outputs": [
    {
     "name": "stdout",
     "output_type": "stream",
     "text": [
      "--2023-05-17 07:40:35--  https://raw.githubusercontent.com/karpathy/makemore/master/names.txt\n",
      "Resolving raw.githubusercontent.com (raw.githubusercontent.com)... 185.199.108.133, 185.199.111.133, 185.199.110.133, ...\n",
      "Connecting to raw.githubusercontent.com (raw.githubusercontent.com)|185.199.108.133|:443... connected.\n",
      "HTTP request sent, awaiting response... 200 OK\n",
      "Length: 228145 (223K) [text/plain]\n",
      "Saving to: ‘names.txt.1’\n",
      "\n",
      "names.txt.1         100%[===================>] 222.80K  --.-KB/s    in 0.05s   \n",
      "\n",
      "2023-05-17 07:40:35 (4.59 MB/s) - ‘names.txt.1’ saved [228145/228145]\n",
      "\n"
     ]
    }
   ],
   "source": [
    "# download the names.txt file from github\n",
    "!wget https://raw.githubusercontent.com/karpathy/makemore/master/names.txt;"
   ]
  },
  {
   "cell_type": "code",
   "execution_count": 2,
   "id": "32148848",
   "metadata": {},
   "outputs": [],
   "source": [
    "with open('names.txt', 'r') as f:\n",
    "    words = f.read().splitlines()"
   ]
  },
  {
   "cell_type": "code",
   "execution_count": 9,
   "id": "0c9d5168",
   "metadata": {},
   "outputs": [
    {
     "data": {
      "text/plain": [
       "'emma'"
      ]
     },
     "execution_count": 9,
     "metadata": {},
     "output_type": "execute_result"
    }
   ],
   "source": [
    "words[0]"
   ]
  },
  {
   "cell_type": "code",
   "execution_count": 13,
   "id": "7b6233de",
   "metadata": {},
   "outputs": [],
   "source": [
    "vocab = sorted(list(set(''.join(words))))  # = out_dim of NN"
   ]
  },
  {
   "cell_type": "code",
   "execution_count": 14,
   "id": "2c73e966",
   "metadata": {
    "scrolled": true
   },
   "outputs": [],
   "source": [
    "# map char to id and id to char\n",
    "stoi = {'.': 0}\n",
    "stoi.update({s:i+1 for i, s in enumerate(vocab)})\n",
    "itos = {v:k for k,v in stoi.items()}"
   ]
  },
  {
   "cell_type": "code",
   "execution_count": 15,
   "id": "3ca9edd2",
   "metadata": {
    "scrolled": true
   },
   "outputs": [
    {
     "name": "stdout",
     "output_type": "stream",
     "text": [
      ".emma.\n",
      "0 -> 5\n",
      "5 -> 13\n",
      "13 -> 13\n",
      "13 -> 1\n",
      "1 -> 0\n"
     ]
    }
   ],
   "source": [
    "xs = []\n",
    "ys = []\n",
    "for w in words[:1]:\n",
    "    context = '.' + w + '.'\n",
    "    print(context)\n",
    "    for ch1, ch2 in zip(context, context[1:]):\n",
    "        print(stoi[ch1], '->' ,stoi[ch2])  # extract mapping from data\n",
    "        xs.append(stoi[ch1])\n",
    "        ys.append(stoi[ch2])"
   ]
  },
  {
   "cell_type": "code",
   "execution_count": 16,
   "id": "51bda928",
   "metadata": {
    "scrolled": false
   },
   "outputs": [
    {
     "name": "stdout",
     "output_type": "stream",
     "text": [
      "[0, 5, 13, 13, 1]\n",
      "[5, 13, 13, 1, 0]\n"
     ]
    }
   ],
   "source": [
    "print(xs)\n",
    "print(ys)"
   ]
  },
  {
   "cell_type": "code",
   "execution_count": 17,
   "id": "7d36d679",
   "metadata": {},
   "outputs": [],
   "source": [
    "# start with tensorifying input\n",
    "X = torch.tensor(xs)\n",
    "Y = torch.tensor(ys)"
   ]
  },
  {
   "cell_type": "code",
   "execution_count": 18,
   "id": "ac8f736b",
   "metadata": {},
   "outputs": [],
   "source": [
    "X = F.one_hot(X, num_classes=26).float()  # one-hot encode inputs"
   ]
  },
  {
   "cell_type": "code",
   "execution_count": 19,
   "id": "d367421f",
   "metadata": {},
   "outputs": [
    {
     "data": {
      "text/plain": [
       "torch.Size([5, 26])"
      ]
     },
     "execution_count": 19,
     "metadata": {},
     "output_type": "execute_result"
    }
   ],
   "source": [
    "X.shape"
   ]
  },
  {
   "cell_type": "code",
   "execution_count": 129,
   "id": "f0f907e7",
   "metadata": {},
   "outputs": [],
   "source": [
    "def check_grad(computed, t):\n",
    "    \"\"\"Check our grad implementation.\"\"\"\n",
    "    exact = torch.all(computed  == t.grad)\n",
    "    approx = torch.allclose(computed, t.grad)\n",
    "    max_diff = (computed - t.grad).abs().max().item()\n",
    "    print(f'exact: {exact}, approx: {approx}, max_diff = {max_diff:.9f}')"
   ]
  },
  {
   "cell_type": "code",
   "execution_count": 471,
   "id": "5d2cb444",
   "metadata": {},
   "outputs": [],
   "source": [
    "torch.random.manual_seed(4122)\n",
    "W = torch.randn(26, 26) * 1e-2\n",
    "W.requires_grad = True"
   ]
  },
  {
   "cell_type": "code",
   "execution_count": 472,
   "id": "5ed96776",
   "metadata": {
    "scrolled": false
   },
   "outputs": [
    {
     "data": {
      "text/plain": [
       "[<matplotlib.lines.Line2D at 0x7f160c1844c0>]"
      ]
     },
     "execution_count": 472,
     "metadata": {},
     "output_type": "execute_result"
    },
    {
     "data": {
      "image/png": "[encoded data removed]",
      "text/plain": [
       "<Figure size 432x288 with 1 Axes>"
      ]
     },
     "metadata": {
      "needs_background": "light"
     },
     "output_type": "display_data"
    }
   ],
   "source": [
    "lossi = []\n",
    "for _ in range(100):\n",
    "    # --- feedforward\n",
    "    preact = X @ W\n",
    "    logits = preact.tanh()\n",
    "    logits_exp = logits.exp()\n",
    "    sum_exp = logits_exp.sum(1, keepdim=True)\n",
    "    inv_sum_exp = sum_exp**-1\n",
    "    probs = logits_exp * inv_sum_exp\n",
    "    p = probs[range(X.shape[0]), Y]\n",
    "\n",
    "    # --- loss\n",
    "    loss = -p.log().mean()  # tensor(5.2233)\n",
    "    #     print(loss)\n",
    "\n",
    "    # --- zero_grads\n",
    "    W.grad = None\n",
    "\n",
    "    W.retain_grad()\n",
    "    preact.retain_grad()\n",
    "    logits.retain_grad()\n",
    "    logits_exp.retain_grad()\n",
    "    sum_exp.retain_grad()\n",
    "    inv_sum_exp.retain_grad()\n",
    "    probs.retain_grad()\n",
    "    p.retain_grad()\n",
    "\n",
    "    # --- compute grads\n",
    "    loss.backward()\n",
    "    lossi.append(loss.item())\n",
    "    # --- gradient descent\n",
    "    W = W - 5 * W.grad\n",
    "plt.plot(lossi)"
   ]
  },
  {
   "cell_type": "code",
   "execution_count": 302,
   "id": "47d6be02",
   "metadata": {
    "scrolled": false
   },
   "outputs": [
    {
     "name": "stdout",
     "output_type": "stream",
     "text": [
      "exact: False, approx: True, max_diff = 0.000000119\n",
      "exact: False, approx: True, max_diff = 0.000000119\n",
      "exact: False, approx: True, max_diff = 0.000000238\n",
      "exact: False, approx: True, max_diff = 0.000000002\n",
      "exact: False, approx: True, max_diff = 0.000000015\n",
      "exact: False, approx: True, max_diff = 0.000000045\n",
      "exact: False, approx: True, max_diff = 0.000000004\n"
     ]
    },
    {
     "ename": "TypeError",
     "evalue": "all(): argument 'input' (position 1) must be Tensor, not bool",
     "output_type": "error",
     "traceback": [
      "\u001b[0;31m---------------------------------------------------------------------------\u001b[0m",
      "\u001b[0;31mTypeError\u001b[0m                                 Traceback (most recent call last)",
      "\u001b[0;32m/tmp/ipykernel_560/742937211.py\u001b[0m in \u001b[0;36m<module>\u001b[0;34m\u001b[0m\n\u001b[1;32m     24\u001b[0m \u001b[0;34m\u001b[0m\u001b[0m\n\u001b[1;32m     25\u001b[0m \u001b[0mdW\u001b[0m \u001b[0;34m=\u001b[0m \u001b[0mX\u001b[0m\u001b[0;34m.\u001b[0m\u001b[0mT\u001b[0m \u001b[0;34m@\u001b[0m \u001b[0mdpreact\u001b[0m\u001b[0;34m\u001b[0m\u001b[0;34m\u001b[0m\u001b[0m\n\u001b[0;32m---> 26\u001b[0;31m \u001b[0mcheck_grad\u001b[0m\u001b[0;34m(\u001b[0m\u001b[0mdW\u001b[0m\u001b[0;34m,\u001b[0m \u001b[0mW\u001b[0m\u001b[0;34m)\u001b[0m\u001b[0;34m\u001b[0m\u001b[0;34m\u001b[0m\u001b[0m\n\u001b[0m",
      "\u001b[0;32m/tmp/ipykernel_560/2349018111.py\u001b[0m in \u001b[0;36mcheck_grad\u001b[0;34m(computed, t)\u001b[0m\n\u001b[1;32m      1\u001b[0m \u001b[0;32mdef\u001b[0m \u001b[0mcheck_grad\u001b[0m\u001b[0;34m(\u001b[0m\u001b[0mcomputed\u001b[0m\u001b[0;34m,\u001b[0m \u001b[0mt\u001b[0m\u001b[0;34m)\u001b[0m\u001b[0;34m:\u001b[0m\u001b[0;34m\u001b[0m\u001b[0;34m\u001b[0m\u001b[0m\n\u001b[1;32m      2\u001b[0m     \u001b[0;34m\"\"\"Check our grad implementation.\"\"\"\u001b[0m\u001b[0;34m\u001b[0m\u001b[0;34m\u001b[0m\u001b[0m\n\u001b[0;32m----> 3\u001b[0;31m     \u001b[0mexact\u001b[0m \u001b[0;34m=\u001b[0m \u001b[0mtorch\u001b[0m\u001b[0;34m.\u001b[0m\u001b[0mall\u001b[0m\u001b[0;34m(\u001b[0m\u001b[0mcomputed\u001b[0m  \u001b[0;34m==\u001b[0m \u001b[0mt\u001b[0m\u001b[0;34m.\u001b[0m\u001b[0mgrad\u001b[0m\u001b[0;34m)\u001b[0m\u001b[0;34m\u001b[0m\u001b[0;34m\u001b[0m\u001b[0m\n\u001b[0m\u001b[1;32m      4\u001b[0m     \u001b[0mapprox\u001b[0m \u001b[0;34m=\u001b[0m \u001b[0mtorch\u001b[0m\u001b[0;34m.\u001b[0m\u001b[0mallclose\u001b[0m\u001b[0;34m(\u001b[0m\u001b[0mcomputed\u001b[0m\u001b[0;34m,\u001b[0m \u001b[0mt\u001b[0m\u001b[0;34m.\u001b[0m\u001b[0mgrad\u001b[0m\u001b[0;34m)\u001b[0m\u001b[0;34m\u001b[0m\u001b[0;34m\u001b[0m\u001b[0m\n\u001b[1;32m      5\u001b[0m     \u001b[0mmax_diff\u001b[0m \u001b[0;34m=\u001b[0m \u001b[0;34m(\u001b[0m\u001b[0mcomputed\u001b[0m \u001b[0;34m-\u001b[0m \u001b[0mt\u001b[0m\u001b[0;34m.\u001b[0m\u001b[0mgrad\u001b[0m\u001b[0;34m)\u001b[0m\u001b[0;34m.\u001b[0m\u001b[0mabs\u001b[0m\u001b[0;34m(\u001b[0m\u001b[0;34m)\u001b[0m\u001b[0;34m.\u001b[0m\u001b[0mmax\u001b[0m\u001b[0;34m(\u001b[0m\u001b[0;34m)\u001b[0m\u001b[0;34m.\u001b[0m\u001b[0mitem\u001b[0m\u001b[0;34m(\u001b[0m\u001b[0;34m)\u001b[0m\u001b[0;34m\u001b[0m\u001b[0;34m\u001b[0m\u001b[0m\n",
      "\u001b[0;31mTypeError\u001b[0m: all(): argument 'input' (position 1) must be Tensor, not bool"
     ]
    }
   ],
   "source": [
    "# --- backprob grad check\n",
    "\n",
    "dp = -1.0 * p**-1  / len(p)\n",
    "check_grad(dp, p)\n",
    "\n",
    "dprobs = torch.zeros_like(probs)\n",
    "dprobs[range(X.shape[0]),Y] = dp\n",
    "check_grad(dprobs, probs)\n",
    "\n",
    "dinv_sum_exp = (dprobs * logits_exp).sum(1, keepdim=True)\n",
    "check_grad(dinv_sum_exp, inv_sum_exp)\n",
    "\n",
    "dsum_exp = -1 * sum_exp**(-2) * dinv_sum_exp\n",
    "check_grad(dsum_exp, sum_exp)\n",
    "\n",
    "dlogits_exp = torch.ones_like(logits_exp) * dsum_exp + dprobs*inv_sum_exp\n",
    "check_grad(dlogits_exp, logits_exp)\n",
    "\n",
    "dlogits = dlogits_exp * logits.exp()\n",
    "check_grad(dlogits, logits)\n",
    "\n",
    "dpreact = dlogits * (1 - preact.tanh()**2)  # 1 - tanh2\n",
    "check_grad(dpreact, preact)\n",
    "\n",
    "dW = X.T @ dpreact\n",
    "check_grad(dW, W)"
   ]
  },
  {
   "cell_type": "code",
   "execution_count": 299,
   "id": "8b9be5cd",
   "metadata": {
    "scrolled": true
   },
   "outputs": [
    {
     "data": {
      "text/plain": [
       "[<matplotlib.lines.Line2D at 0x7f160e1273d0>]"
      ]
     },
     "execution_count": 299,
     "metadata": {},
     "output_type": "execute_result"
    },
    {
     "data": {
      "image/png": "[encoded data removed]",
      "text/plain": [
       "<Figure size 432x288 with 1 Axes>"
      ]
     },
     "metadata": {
      "needs_background": "light"
     },
     "output_type": "display_data"
    }
   ],
   "source": [
    "lossi = []\n",
    "for _ in range(100):\n",
    "    # same but without .backward()\n",
    "    preact = X @ W\n",
    "    logits = preact.tanh()\n",
    "    logits_exp = logits.exp()\n",
    "    sum_exp = logits_exp.sum(1, keepdim=True)\n",
    "    inv_sum_exp = sum_exp**-1\n",
    "    probs = logits_exp * inv_sum_exp\n",
    "    p = probs[range(X.shape[0]), Y]\n",
    "\n",
    "    # --- loss\n",
    "    loss = -p.log().mean()  # tensor(5.2233)\n",
    "#     print(loss)\n",
    "    lossi.append(loss.item())\n",
    "    # --- backprop\n",
    "    dp = -1.0 * p**-1  / len(p)\n",
    "    dprobs = torch.zeros_like(probs)\n",
    "    dprobs[range(X.shape[0]),Y] = dp\n",
    "    dinv_sum_exp = (dprobs * logits_exp).sum(1, keepdim=True)\n",
    "    dsum_exp = -1 * sum_exp**(-2) * dinv_sum_exp\n",
    "    dlogits_exp = torch.ones_like(logits_exp) * dsum_exp + dprobs*inv_sum_exp\n",
    "    dlogits = dlogits_exp * logits.exp()\n",
    "    dpreact = dlogits * (1 - preact.tanh()**2)  # 1 - tanh2\n",
    "    dW = X.T @ dpreact\n",
    "    # --- grad descent\n",
    "    W = W - 1 * dW\n",
    "plt.plot(lossi)    "
   ]
  },
  {
   "cell_type": "code",
   "execution_count": 595,
   "id": "ab67dfac",
   "metadata": {},
   "outputs": [],
   "source": [
    "W1 = torch.randn(26, 200) * 0.01\n",
    "W1.requires_grad = True\n",
    "W2 = torch.randn(200, 26) * 0.01\n",
    "W2.requires_grad = True"
   ]
  },
  {
   "cell_type": "code",
   "execution_count": 495,
   "id": "00d0662e",
   "metadata": {},
   "outputs": [
    {
     "data": {
      "text/plain": [
       "[<matplotlib.lines.Line2D at 0x7f160d484c10>]"
      ]
     },
     "execution_count": 495,
     "metadata": {},
     "output_type": "execute_result"
    },
    {
     "data": {
      "image/png": "[encoded data removed]",
      "text/plain": [
       "<Figure size 432x288 with 1 Axes>"
      ]
     },
     "metadata": {
      "needs_background": "light"
     },
     "output_type": "display_data"
    }
   ],
   "source": [
    "# 2 layers NN with .backward()\n",
    "lossi = []\n",
    "for _ in range(100):\n",
    "    # --- feedforward\n",
    "    preact = X @ W1\n",
    "    h1 = preact.tanh()\n",
    "    logits = h1 @ W2\n",
    "    logits_exp = logits.exp()\n",
    "    sum_exp = logits_exp.sum(1, keepdim=True)\n",
    "    inv_sum_exp = sum_exp**-1\n",
    "    probs = logits_exp * inv_sum_exp\n",
    "    p = probs[range(X.shape[0]), Y]\n",
    "\n",
    "    # --- loss\n",
    "    loss = -p.log().mean()\n",
    "    # print(loss)\n",
    "    lossi.append(loss.item())\n",
    "\n",
    "    # --- zero_grads\n",
    "    W1.grad = None\n",
    "    W2.grad = None\n",
    "\n",
    "    W1.retain_grad()\n",
    "    W2.retain_grad()\n",
    "    preact.retain_grad()\n",
    "    logits.retain_grad()\n",
    "    logits_exp.retain_grad()\n",
    "    sum_exp.retain_grad()\n",
    "    inv_sum_exp.retain_grad()\n",
    "    probs.retain_grad()\n",
    "    p.retain_grad()\n",
    "\n",
    "    # --- compute grads\n",
    "    loss.backward()\n",
    "    # --- gradient descent\n",
    "    W1 = W1 - 1.8 * W1.grad\n",
    "    W2 = W2 - 1.8 * W2.grad\n",
    "plt.plot(lossi)\n",
    "# --> lower loss"
   ]
  },
  {
   "cell_type": "code",
   "execution_count": 594,
   "id": "5c341b2c",
   "metadata": {},
   "outputs": [
    {
     "name": "stdout",
     "output_type": "stream",
     "text": [
      "0.3000583052635193\n"
     ]
    }
   ],
   "source": [
    "# two layers with manual backprop\n",
    "\n",
    "# --- feedforward\n",
    "preact = X @ W1\n",
    "h1 = preact.tanh()\n",
    "logits = h1 @ W2\n",
    "logits_exp = logits.exp()\n",
    "sum_exp = logits_exp.sum(1, keepdim=True)\n",
    "inv_sum_exp = sum_exp**-1\n",
    "probs = logits_exp * inv_sum_exp\n",
    "p = probs[range(X.shape[0]), Y]\n",
    "# ---\n",
    "\n",
    "# --- loss\n",
    "loss = -p.log().mean()\n",
    "print(loss.item())\n",
    "# ---\n",
    "\n",
    "# --- backprop\n",
    "dp = -1.0 * p**-1  / len(p)\n",
    "dprobs = torch.zeros_like(probs)\n",
    "dprobs[range(X.shape[0]),Y] = dp\n",
    "dinv_sum_exp = (dprobs * logits_exp).sum(1, keepdim=True)\n",
    "dsum_exp = -1 * sum_exp**(-2) * dinv_sum_exp\n",
    "dlogits_exp = torch.ones_like(logits_exp) * dsum_exp + dprobs*inv_sum_exp\n",
    "dlogits = dlogits_exp * logits.exp()\n",
    "\n",
    "dh1 = dlogits @ W2.T\n",
    "dW2 = h1.T @ dlogits\n",
    "dpreact = dh1 * (1 - preact.tanh()**2)\n",
    "dW1 = X.T @ dpreact\n",
    "# ---\n",
    "\n",
    "# --- grad descent\n",
    "W1 = W1 - 1.8 * dW1\n",
    "W2 = W2 - 1.8 * dW2"
   ]
  },
  {
   "cell_type": "code",
   "execution_count": 600,
   "id": "238ec160",
   "metadata": {},
   "outputs": [
    {
     "data": {
      "text/plain": [
       "(torch.Size([5, 26]), torch.Size([26, 200]), torch.Size([5, 200]))"
      ]
     },
     "execution_count": 600,
     "metadata": {},
     "output_type": "execute_result"
    }
   ],
   "source": [
    "X.shape, W1.shape, preact.shape"
   ]
  },
  {
   "cell_type": "code",
   "execution_count": 616,
   "id": "c1911c20",
   "metadata": {
    "scrolled": true
   },
   "outputs": [
    {
     "data": {
      "text/plain": [
       "torch.Size([5, 1])"
      ]
     },
     "execution_count": 616,
     "metadata": {},
     "output_type": "execute_result"
    }
   ],
   "source": [
    "# compute mean and std of preact\n",
    "(preact - preact.mean(1, keepdims=True)).shape\n",
    "# (preact.std(1, keepdims=True)).shape"
   ]
  },
  {
   "cell_type": "code",
   "execution_count": 30,
   "id": "a148d9c1",
   "metadata": {},
   "outputs": [
    {
     "data": {
      "text/plain": [
       "torch.Size([5, 26])"
      ]
     },
     "execution_count": 30,
     "metadata": {},
     "output_type": "execute_result"
    }
   ],
   "source": [
    "X.shape"
   ]
  },
  {
   "cell_type": "code",
   "execution_count": 190,
   "id": "5ca02f96",
   "metadata": {},
   "outputs": [
    {
     "name": "stdout",
     "output_type": "stream",
     "text": [
      "dp grad:\n",
      "exact: False, approx: True, max_diff = 0.000000477\n",
      "dprobs:\n",
      "exact: False, approx: True, max_diff = 0.000000477\n",
      "dinv_sum: \n",
      "exact: False, approx: True, max_diff = 0.000000477\n",
      "dsum_exp: \n",
      "exact: False, approx: True, max_diff = 0.000000000\n",
      "dlogits_exp: \n",
      "exact: False, approx: True, max_diff = 0.000000015\n",
      "dlogits:\n",
      "exact: False, approx: True, max_diff = 0.000000015\n",
      "dh:\n",
      "exact: False, approx: True, max_diff = 0.000000001\n",
      "dW2:\n",
      "exact: False, approx: False, max_diff = 0.000000030\n",
      "dy:\n",
      "exact: False, approx: True, max_diff = 0.000000000\n",
      "dbngain:\n",
      "exact: False, approx: True, max_diff = 0.000000001\n",
      "dbnbias:\n",
      "exact: False, approx: True, max_diff = 0.000000000\n",
      "dx_hat:\n",
      "exact: False, approx: True, max_diff = 0.000000000\n",
      "dpreact_mean:\n",
      "exact: False, approx: False, max_diff = 0.000000246\n",
      "dpreact_var\n",
      "exact: False, approx: False, max_diff = 1076.678222656\n"
     ]
    }
   ],
   "source": [
    "# two layers with .backprop() and BatchNorm\n",
    "\n",
    "# init\n",
    "g = torch.Generator().manual_seed(42)\n",
    "W1 = torch.randn(26, 200, generator=g) * 0.01\n",
    "W2 = torch.randn(200, 26, generator=g) * 0.01\n",
    "bn_gain = torch.ones_like(X @ W1)\n",
    "bn_bias = torch.zeros_like(X @ W1)\n",
    "eps = 1e-6\n",
    "parameters = [W1, W2, bn_bias, bn_gain]\n",
    "\n",
    "for p in parameters:\n",
    "    p.requires_grad = True\n",
    "\n",
    "# feedforward\n",
    "# TODO: sample batch from data\n",
    "\n",
    "# first linear layer\n",
    "preact = X @ W1\n",
    "\n",
    "# Batch Normalization layer\n",
    "preact_mean = preact.mean(0, keepdims=True)\n",
    "preact_var = preact.var(0, keepdims=True)\n",
    "x_hat = (preact - preact_mean) * (preact_var**2 + eps)**-0.5\n",
    "y = bn_gain * x_hat + bn_bias\n",
    "\n",
    "# non-linearity\n",
    "h = y.tanh()\n",
    "logits = h @ W2\n",
    "\n",
    "# softmax\n",
    "logits_exp = logits.exp()\n",
    "sum_exp = logits_exp.sum(1, keepdim=True)\n",
    "inv_sum_exp = sum_exp**-1\n",
    "probs = logits_exp * inv_sum_exp\n",
    "# loss\n",
    "p = probs[range(X.shape[0]), Y]\n",
    "loss = -p.log().mean()\n",
    "for param in parameters:\n",
    "    param.grad = None\n",
    "\n",
    "p.retain_grad()\n",
    "probs.retain_grad()\n",
    "inv_sum_exp.retain_grad()\n",
    "sum_exp.retain_grad()\n",
    "logits_exp.retain_grad()\n",
    "logits.retain_grad()\n",
    "h.retain_grad()\n",
    "y.retain_grad()\n",
    "x_hat.retain_grad()\n",
    "preact_mean.retain_grad()\n",
    "preact_var.retain_grad()\n",
    "preact.retain_grad()\n",
    "\n",
    "loss.backward()\n",
    "# backprop\n",
    "dp = -p**-1  / len(p)\n",
    "print('dp grad:')\n",
    "check_grad(dp, p)\n",
    "\n",
    "dprobs = torch.zeros_like(probs)\n",
    "dprobs[range(X.shape[0]),Y] = dp\n",
    "print('dprobs:')\n",
    "check_grad(dprobs, probs)\n",
    "\n",
    "dinv_sum_exp = (dprobs * logits_exp).sum(1, keepdim=True)\n",
    "print('dinv_sum: ')\n",
    "check_grad(dinv_sum_exp, inv_sum_exp)\n",
    "\n",
    "dsum_exp = -1 * sum_exp**(-2) * dinv_sum_exp\n",
    "print('dsum_exp: ')\n",
    "check_grad(dsum_exp, sum_exp)\n",
    "\n",
    "dlogits_exp = torch.ones_like(logits_exp) * dsum_exp + dprobs*inv_sum_exp\n",
    "print('dlogits_exp: ')\n",
    "check_grad(dlogits_exp, logits_exp)\n",
    "\n",
    "dlogits = dlogits_exp * logits.exp()\n",
    "print('dlogits:')\n",
    "check_grad(dlogits, logits)\n",
    "\n",
    "dh = dlogits @ W2.T\n",
    "print('dh:')\n",
    "check_grad(dh, h)\n",
    "\n",
    "dW2 = h.T @ dlogits\n",
    "print('dW2:')\n",
    "check_grad(dW2, W2)\n",
    "\n",
    "dy = dh * (1 - y.tanh()**2)\n",
    "print('dy:')\n",
    "check_grad(dy, y)\n",
    "\n",
    "dbngain = dy * x_hat\n",
    "print('dbngain:')\n",
    "check_grad(dbngain, bn_gain)\n",
    "\n",
    "dbnbias = dy\n",
    "print('dbnbias:')\n",
    "check_grad(dbnbias, bn_bias)\n",
    "\n",
    "dx_hat = dy * bn_gain\n",
    "print('dx_hat:')\n",
    "check_grad(dx_hat, x_hat)\n",
    "\n",
    "dpreact_mean = -bn_gain * (dy * (preact_var**2 + eps)**-0.5).sum(0, keepdims=True)\n",
    "print('dpreact_mean:')\n",
    "check_grad(dpreact_mean, preact_mean)\n",
    "\n",
    "dpreact_var = -bn_gain/2 * (dy * (preact - preact_mean) * (preact_var**2 + eps)**-1.5).sum(0, keepdims=True)\n",
    "print('dpreact_var')\n",
    "check_grad(dpreact_var, preact_var)\n",
    "\n",
    "# dpreact = dh * (1 - preact.tanh()**2)\n",
    "# print('dpreact:')\n",
    "# check_grad(dpreact, preact)\n",
    "\n",
    "# dW1 = X.T @ dpreact\n",
    "# print('dW1')\n",
    "# check_grad(dW1, W1)\n",
    "\n",
    "# # --- grad descent\n",
    "# W1 = W1 - 1.8 * dW1\n",
    "# W2 = W2 - 1.8 * dW2"
   ]
  },
  {
   "cell_type": "code",
   "execution_count": 10,
   "id": "f696436a",
   "metadata": {},
   "outputs": [],
   "source": [
    "# introduce embedding\n",
    "# do the same with NN class and autograd\n",
    "# show NN computation graph with graphiz\n",
    "# sample from model\n",
    "# train on all dataset\n",
    "\n",
    "# -----\n",
    "\n",
    "# add batch normalization\n",
    "    # scan papaer and notes -- done\n",
    "    # implement feedforward -- done\n",
    "    # derive BN backprop analytically -- done\n",
    "    # implement backprop manually \n",
    "# -----\n",
    "# add a second layer --- using manual backprob -- done\n",
    "    # ~ W1 (in_dim, hid_units) -- done\n",
    "    # ~ W2 (hid_units, vocab) -- done\n",
    "# add a second layer --- using .backward() -- done\n",
    "    # ~ W1 (in_dim, hid_units) -- done\n",
    "    # ~ W2 (hid_units, vocab) -- done\n",
    "# add tanh non-linearity -- \n",
    "    # - feedforward with tanh -- done\n",
    "    # - backprob tanh -- done\n",
    "# check loss function and update grads -- done\n",
    "# check gradients -- done\n",
    "# check gradients on batch -- done\n",
    "# plot loss per epoch -- done"
   ]
  }
 ],
 "metadata": {
  "kernelspec": {
   "display_name": "Python 3 (ipykernel)",
   "language": "python",
   "name": "python3"
  },
  "language_info": {
   "codemirror_mode": {
    "name": "ipython",
    "version": 3
   },
   "file_extension": ".py",
   "mimetype": "text/x-python",
   "name": "python",
   "nbconvert_exporter": "python",
   "pygments_lexer": "ipython3",
   "version": "3.9.7"
  }
 },
 "nbformat": 4,
 "nbformat_minor": 5
}
