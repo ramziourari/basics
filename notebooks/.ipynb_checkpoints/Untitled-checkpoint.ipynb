{
 "cells": [
  {
   "cell_type": "code",
   "execution_count": 50,
   "id": "d6cb1523",
   "metadata": {},
   "outputs": [],
   "source": [
    "import torch\n",
    "import torch.nn.functional as F"
   ]
  },
  {
   "cell_type": "code",
   "execution_count": 1,
   "id": "a4779eed",
   "metadata": {},
   "outputs": [
    {
     "name": "stdout",
     "output_type": "stream",
     "text": [
      "--2023-05-17 07:40:35--  https://raw.githubusercontent.com/karpathy/makemore/master/names.txt\n",
      "Resolving raw.githubusercontent.com (raw.githubusercontent.com)... 185.199.108.133, 185.199.111.133, 185.199.110.133, ...\n",
      "Connecting to raw.githubusercontent.com (raw.githubusercontent.com)|185.199.108.133|:443... connected.\n",
      "HTTP request sent, awaiting response... 200 OK\n",
      "Length: 228145 (223K) [text/plain]\n",
      "Saving to: ‘names.txt.1’\n",
      "\n",
      "names.txt.1         100%[===================>] 222.80K  --.-KB/s    in 0.05s   \n",
      "\n",
      "2023-05-17 07:40:35 (4.59 MB/s) - ‘names.txt.1’ saved [228145/228145]\n",
      "\n"
     ]
    }
   ],
   "source": [
    "# download the names.txt file from github\n",
    "!wget https://raw.githubusercontent.com/karpathy/makemore/master/names.txt;"
   ]
  },
  {
   "cell_type": "code",
   "execution_count": 6,
   "id": "0b606a0d",
   "metadata": {},
   "outputs": [],
   "source": [
    "with open('names.txt', 'r') as f:\n",
    "    words = f.read().splitlines()"
   ]
  },
  {
   "cell_type": "code",
   "execution_count": 27,
   "id": "8fc8f5d7",
   "metadata": {},
   "outputs": [
    {
     "data": {
      "text/plain": [
       "'emma'"
      ]
     },
     "execution_count": 27,
     "metadata": {},
     "output_type": "execute_result"
    }
   ],
   "source": [
    "words[0]"
   ]
  },
  {
   "cell_type": "code",
   "execution_count": 17,
   "id": "46672317",
   "metadata": {},
   "outputs": [],
   "source": [
    "vocab = sorted(list(set(''.join(words))))  # also the out_dim of NN"
   ]
  },
  {
   "cell_type": "code",
   "execution_count": 26,
   "id": "e9f0fdb6",
   "metadata": {
    "scrolled": true
   },
   "outputs": [],
   "source": [
    "# map char to id and id to char\n",
    "stoi = {s:i+1 for i, s in enumerate(vocab)}\n",
    "stoi['.'] = 0\n",
    "itos = {v:k for k, v in stoi.items()}"
   ]
  },
  {
   "cell_type": "code",
   "execution_count": 41,
   "id": "5a9bfd1e",
   "metadata": {
    "scrolled": true
   },
   "outputs": [
    {
     "name": "stdout",
     "output_type": "stream",
     "text": [
      ".emma.\n",
      "0 -> 5\n",
      "5 -> 13\n",
      "13 -> 13\n",
      "13 -> 1\n",
      "1 -> 0\n"
     ]
    }
   ],
   "source": [
    "xs = []\n",
    "ys = []\n",
    "for w in words[:1]:\n",
    "    context = '.' + w + '.'\n",
    "    print(context)\n",
    "    for ch1, ch2 in zip(context, context[1:]):\n",
    "        print(stoi[ch1], '->' ,stoi[ch2])  # mapping extracted from data\n",
    "        xs.append(stoi[ch1])\n",
    "        ys.append(stoi[ch2])"
   ]
  },
  {
   "cell_type": "code",
   "execution_count": 166,
   "id": "deb810a9",
   "metadata": {
    "scrolled": true
   },
   "outputs": [
    {
     "name": "stdout",
     "output_type": "stream",
     "text": [
      "[0, 5, 13, 13, 1]\n",
      "[5, 13, 13, 1, 0]\n"
     ]
    }
   ],
   "source": [
    "print(xs)\n",
    "print(ys)"
   ]
  },
  {
   "cell_type": "code",
   "execution_count": 197,
   "id": "14a22260",
   "metadata": {},
   "outputs": [],
   "source": [
    "# start with tensorifying input\n",
    "X = torch.tensor(xs[0])\n",
    "Y = torch.tensor(ys[0])"
   ]
  },
  {
   "cell_type": "code",
   "execution_count": 198,
   "id": "4a7dda1b",
   "metadata": {},
   "outputs": [],
   "source": [
    "X = F.one_hot(X, num_classes=26).float()  # one-hot encode inputs"
   ]
  },
  {
   "cell_type": "code",
   "execution_count": 199,
   "id": "dfba778f",
   "metadata": {},
   "outputs": [],
   "source": [
    "X = X.view(1, X.shape[0])"
   ]
  },
  {
   "cell_type": "code",
   "execution_count": 200,
   "id": "0c767399",
   "metadata": {},
   "outputs": [],
   "source": [
    "torch.random.manual_seed(42)\n",
    "W = torch.randn(26, 26)"
   ]
  },
  {
   "cell_type": "code",
   "execution_count": 237,
   "id": "a76ab77f",
   "metadata": {},
   "outputs": [],
   "source": [
    "# --- feedforward\n",
    "logits = X @ W\n",
    "logits_exp = logits.exp()\n",
    "sum_exp = logits_exp.sum(1, keepdim=True)\n",
    "inv_sum_exp = sum_exp**-1\n",
    "probs = logits_exp * inv_sum_exp\n",
    "p = probs[0, Y]\n",
    "# --- loss\n",
    "loss = -p.log()  # tensor(5.2233)"
   ]
  },
  {
   "cell_type": "code",
   "execution_count": 298,
   "id": "5e57ff4c",
   "metadata": {},
   "outputs": [
    {
     "data": {
      "text/plain": [
       "tensor([[0.1272, 0.0820, 0.0456, 0.0023, 0.0365, 0.0054, 0.0177, 0.0037, 0.0087,\n",
       "         0.0963, 0.0125, 0.0046, 0.0089, 0.0106, 0.0086, 0.0397, 0.0957, 0.0158,\n",
       "         0.0113, 0.0287, 0.0087, 0.0545, 0.0413, 0.0995, 0.0666, 0.0677]])"
      ]
     },
     "execution_count": 298,
     "metadata": {},
     "output_type": "execute_result"
    }
   ],
   "source": [
    "dlogits"
   ]
  },
  {
   "cell_type": "code",
   "execution_count": 297,
   "id": "e08b4b62",
   "metadata": {},
   "outputs": [],
   "source": [
    "# --- backprob\n",
    "dp = -1/p\n",
    "dprobs = torch.zeros_like(probs)\n",
    "dprobs[0,Y] = dp\n",
    "dlogits_exp = dprobs * inv_sum_exp\n",
    "dinv_sum_exp = (dprobs * logits_exp).sum(1, keepdim=True)\n",
    "dsum_exp = -1 * sum_exp**(-2) * dinv_sum_exp\n",
    "dlogits_exp = torch.ones_like(logits_exp) * dsum_exp\n",
    "dlogits = dlogits_exp * logits.exp()"
   ]
  }
 ],
 "metadata": {
  "kernelspec": {
   "display_name": "Python 3 (ipykernel)",
   "language": "python",
   "name": "python3"
  },
  "language_info": {
   "codemirror_mode": {
    "name": "ipython",
    "version": 3
   },
   "file_extension": ".py",
   "mimetype": "text/x-python",
   "name": "python",
   "nbconvert_exporter": "python",
   "pygments_lexer": "ipython3",
   "version": "3.9.7"
  }
 },
 "nbformat": 4,
 "nbformat_minor": 5
}
